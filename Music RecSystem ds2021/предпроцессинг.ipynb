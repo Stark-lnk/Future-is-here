{
 "cells": [
  {
   "cell_type": "code",
   "execution_count": 11,
   "metadata": {},
   "outputs": [],
   "source": [
    "import numpy as np, pandas as pd\n",
    "# import matplotlib.pyplot as plt, seaborn as sns\n",
    "from tqdm import tqdm\n",
    "import numpy"
   ]
  },
  {
   "cell_type": "markdown",
   "metadata": {},
   "source": [
    "### Data Loading"
   ]
  },
  {
   "cell_type": "code",
   "execution_count": 3,
   "metadata": {
    "scrolled": true
   },
   "outputs": [],
   "source": [
    "data = pd.read_csv(\"data/tracks.csv\")"
   ]
  },
  {
   "cell_type": "code",
   "execution_count": 61,
   "metadata": {},
   "outputs": [],
   "source": [
    "data.drop(columns=['key', 'id', 'id_artists'], inplace=True)\n",
    "data.dropna(inplace=True)\n",
    "data['release_date'] = data['release_date'].map(lambda x: int(x[:4]))"
   ]
  },
  {
   "cell_type": "code",
   "execution_count": 62,
   "metadata": {},
   "outputs": [],
   "source": [
    "data1950 = data[data['release_date']<1950].sample(5000)\n",
    "data2000 = data[data['release_date']>=1950 & (data['release_date']<2000)].sample(10000)\n",
    "data2021 = data[data['release_date']>=2000].sample(30000)\n",
    "data = pd.concat([data1950, data2000, data2021], axis=0, ignore_index=True)"
   ]
  },
  {
   "cell_type": "code",
   "execution_count": 22,
   "metadata": {},
   "outputs": [],
   "source": [
    "def normalize_column(df_col):\n",
    "    max_d = df_col.max()\n",
    "    min_d = df_col.min()\n",
    "    return (df_col - min_d)/(max_d - min_d)"
   ]
  },
  {
   "cell_type": "code",
   "execution_count": 32,
   "metadata": {},
   "outputs": [
    {
     "data": {
      "text/plain": [
       "<AxesSubplot:>"
      ]
     },
     "execution_count": 32,
     "metadata": {},
     "output_type": "execute_result"
    },
    {
     "data": {
      "image/png": "[encoded data removed]",
      "text/plain": [
       "<Figure size 432x288 with 1 Axes>"
      ]
     },
     "metadata": {
      "needs_background": "light"
     },
     "output_type": "display_data"
    }
   ],
   "source": [
    "normalize_column(pd.Series(np.sqrt(data['speechiness']))).hist()\n",
    "\n",
    "pd.Series(np.sqrt(data['speechiness'])).hist()\n",
    "data['speechiness'].hist()\n"
   ]
  },
  {
   "cell_type": "code",
   "execution_count": 64,
   "metadata": {},
   "outputs": [],
   "source": [
    "def normalize_column(df_col):\n",
    "    max_d = df_col.max()\n",
    "    min_d = df_col.min()\n",
    "    return (df_col - min_d)/(max_d - min_d)\n",
    "\n",
    "data1 = data.copy()\n",
    "num_types = ['int16', 'int32', 'int64', 'float16', 'float32', 'float64']\n",
    "num = data1.select_dtypes(include=num_types)\n",
    "        \n",
    "for col in num.columns:\n",
    "    normalize_column(data1, col)"
   ]
  },
  {
   "cell_type": "code",
   "execution_count": 65,
   "metadata": {},
   "outputs": [],
   "source": [
    "from sklearn.cluster import KMeans\n",
    "\n",
    "km = KMeans(n_clusters=15)\n",
    "cat = km.fit_predict(num)\n",
    "data1['cat'] = cat\n",
    "normalize_column(data1, 'cat')"
   ]
  },
  {
   "cell_type": "code",
   "execution_count": null,
   "metadata": {},
   "outputs": [],
   "source": []
  },
  {
   "cell_type": "code",
   "execution_count": 32,
   "metadata": {},
   "outputs": [],
   "source": [
    "def normalize_column(df_col):\n",
    "    max_d = df_col.max()\n",
    "    min_d = ddf_col.min()\n",
    "    return (df_col - min_d)/(max_d - min_d)\n",
    "\n",
    "class SpotifyRecommender():\n",
    "    def __init__(self, rec_data):\n",
    "        self.rec_data_ = rec_data\n",
    "        for col_name in self.rec_data_.columns:\n",
    "            if col_name not in ['id', 'name', 'artists', 'id_artists', 'release_date', 'key']:\n",
    "                self.rec_data_[col_name] = normalize_column(self.rec_data_[col_name])\n",
    "\n",
    "    \n",
    "    def change_data(self, rec_data):\n",
    "        self.rec_data_ = rec_data\n",
    "        \n",
    "    \n",
    "    def get_recommendations(self, song_name, amount=1):\n",
    "        distances = []\n",
    "        #choosing the data for our song\n",
    "        song = self.rec_data_[(self.rec_data_.name.str.lower() == song_name.lower())].head(1).values[0]\n",
    "        #dropping the data with our song\n",
    "        res_data = self.rec_data_[self.rec_data_.name.str.lower() != song_name.lower()]\n",
    "        for r_song in tqdm(res_data.values):\n",
    "            dist = 0\n",
    "            for col, col_name in enumerate(data.columns):\n",
    "                # non-numerical columns\n",
    "                if col_name not in ['id', 'name', 'artists', 'id_artists', 'release_date', 'key']:\n",
    "                    #calculating the manhettan distances for each numerical feature\n",
    "                    dist = dist + np.absolute(float(song[col]) - float(r_song[col]))\n",
    "            distances.append(dist)\n",
    "        res_data['distance'] = distances\n",
    "        \n",
    "        #sorting our data to be ascending by 'distance' feature\n",
    "        res_data = res_data.sort_values('distance')\n",
    "        return show_final_df(res_data[:amount])"
   ]
  },
  {
   "cell_type": "code",
   "execution_count": 67,
   "metadata": {},
   "outputs": [],
   "source": [
    "data['cat'] = data1['cat']"
   ]
  },
  {
   "cell_type": "code",
   "execution_count": 68,
   "metadata": {},
   "outputs": [],
   "source": [
    "data.to_csv('data/tracks5.csv', index=None)"
   ]
  },
  {
   "cell_type": "code",
   "execution_count": 15,
   "metadata": {},
   "outputs": [],
   "source": [
    "data = pd.read_csv(\"data/tracks5.csv\")"
   ]
  },
  {
   "cell_type": "code",
   "execution_count": 29,
   "metadata": {},
   "outputs": [
    {
     "name": "stdout",
     "output_type": "stream",
     "text": [
      "Wall time: 7.17 s\n"
     ]
    }
   ],
   "source": [
    "# %%time\n",
    "# aaa = get_all_artists(data['artists'].unique())\n",
    "# pd.Series(aaa).to_csv('data/artists.csv', index=None)\n",
    "# aaa = data['name']\n",
    "# pd.Series(aaa).to_csv('data/song_names.csv', index=None)"
   ]
  }
 ],
 "metadata": {
  "kernelspec": {
   "display_name": "Python 3",
   "language": "python",
   "name": "python3"
  },
  "language_info": {
   "codemirror_mode": {
    "name": "ipython",
    "version": 3
   },
   "file_extension": ".py",
   "mimetype": "text/x-python",
   "name": "python",
   "nbconvert_exporter": "python",
   "pygments_lexer": "ipython3",
   "version": "3.8.5"
  },
  "varInspector": {
   "cols": {
    "lenName": 16,
    "lenType": 16,
    "lenVar": 40
   },
   "kernels_config": {
    "python": {
     "delete_cmd_postfix": "",
     "delete_cmd_prefix": "del ",
     "library": "var_list.py",
     "varRefreshCmd": "print(var_dic_list())"
    },
    "r": {
     "delete_cmd_postfix": ") ",
     "delete_cmd_prefix": "rm(",
     "library": "var_list.r",
     "varRefreshCmd": "cat(var_dic_list()) "
    }
   },
   "types_to_exclude": [
    "module",
    "function",
    "builtin_function_or_method",
    "instance",
    "_Feature"
   ],
   "window_display": false
  }
 },
 "nbformat": 4,
 "nbformat_minor": 4
}
